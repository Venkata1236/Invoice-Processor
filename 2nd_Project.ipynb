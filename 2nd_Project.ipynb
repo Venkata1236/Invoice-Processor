{
  "nbformat": 4,
  "nbformat_minor": 0,
  "metadata": {
    "colab": {
      "provenance": [],
      "authorship_tag": "ABX9TyNGtT1Y03Vf91LNNyI7nit0",
      "include_colab_link": true
    },
    "kernelspec": {
      "name": "python3",
      "display_name": "Python 3"
    },
    "language_info": {
      "name": "python"
    }
  },
  "cells": [
    {
      "cell_type": "markdown",
      "metadata": {
        "id": "view-in-github",
        "colab_type": "text"
      },
      "source": [
        "<a href=\"https://colab.research.google.com/github/Venkata1236/Invoice-Processor/blob/main/2nd_Project.ipynb\" target=\"_parent\"><img src=\"https://colab.research.google.com/assets/colab-badge.svg\" alt=\"Open In Colab\"/></a>"
      ]
    },
    {
      "cell_type": "code",
      "execution_count": null,
      "metadata": {
        "id": "Bzo_9DWuceBQ",
        "colab": {
          "base_uri": "https://localhost:8080/"
        },
        "collapsed": true,
        "outputId": "10d15564-f968-49e7-9148-c9073f2f87e3"
      },
      "outputs": [
        {
          "output_type": "stream",
          "name": "stdout",
          "text": [
            "Requirement already satisfied: gspread in /usr/local/lib/python3.11/dist-packages (6.2.1)\n",
            "Requirement already satisfied: oauth2client in /usr/local/lib/python3.11/dist-packages (4.1.3)\n",
            "Requirement already satisfied: google-auth>=1.12.0 in /usr/local/lib/python3.11/dist-packages (from gspread) (2.38.0)\n",
            "Requirement already satisfied: google-auth-oauthlib>=0.4.1 in /usr/local/lib/python3.11/dist-packages (from gspread) (1.2.2)\n",
            "Requirement already satisfied: httplib2>=0.9.1 in /usr/local/lib/python3.11/dist-packages (from oauth2client) (0.22.0)\n",
            "Requirement already satisfied: pyasn1>=0.1.7 in /usr/local/lib/python3.11/dist-packages (from oauth2client) (0.6.1)\n",
            "Requirement already satisfied: pyasn1-modules>=0.0.5 in /usr/local/lib/python3.11/dist-packages (from oauth2client) (0.4.2)\n",
            "Requirement already satisfied: rsa>=3.1.4 in /usr/local/lib/python3.11/dist-packages (from oauth2client) (4.9.1)\n",
            "Requirement already satisfied: six>=1.6.1 in /usr/local/lib/python3.11/dist-packages (from oauth2client) (1.17.0)\n",
            "Requirement already satisfied: cachetools<6.0,>=2.0.0 in /usr/local/lib/python3.11/dist-packages (from google-auth>=1.12.0->gspread) (5.5.2)\n",
            "Requirement already satisfied: requests-oauthlib>=0.7.0 in /usr/local/lib/python3.11/dist-packages (from google-auth-oauthlib>=0.4.1->gspread) (2.0.0)\n",
            "Requirement already satisfied: pyparsing!=3.0.0,!=3.0.1,!=3.0.2,!=3.0.3,<4,>=2.4.2 in /usr/local/lib/python3.11/dist-packages (from httplib2>=0.9.1->oauth2client) (3.2.3)\n",
            "Requirement already satisfied: oauthlib>=3.0.0 in /usr/local/lib/python3.11/dist-packages (from requests-oauthlib>=0.7.0->google-auth-oauthlib>=0.4.1->gspread) (3.3.1)\n",
            "Requirement already satisfied: requests>=2.0.0 in /usr/local/lib/python3.11/dist-packages (from requests-oauthlib>=0.7.0->google-auth-oauthlib>=0.4.1->gspread) (2.32.3)\n",
            "Requirement already satisfied: charset-normalizer<4,>=2 in /usr/local/lib/python3.11/dist-packages (from requests>=2.0.0->requests-oauthlib>=0.7.0->google-auth-oauthlib>=0.4.1->gspread) (3.4.2)\n",
            "Requirement already satisfied: idna<4,>=2.5 in /usr/local/lib/python3.11/dist-packages (from requests>=2.0.0->requests-oauthlib>=0.7.0->google-auth-oauthlib>=0.4.1->gspread) (3.10)\n",
            "Requirement already satisfied: urllib3<3,>=1.21.1 in /usr/local/lib/python3.11/dist-packages (from requests>=2.0.0->requests-oauthlib>=0.7.0->google-auth-oauthlib>=0.4.1->gspread) (2.4.0)\n",
            "Requirement already satisfied: certifi>=2017.4.17 in /usr/local/lib/python3.11/dist-packages (from requests>=2.0.0->requests-oauthlib>=0.7.0->google-auth-oauthlib>=0.4.1->gspread) (2025.6.15)\n"
          ]
        }
      ],
      "source": [
        "!pip install gspread oauth2client"
      ]
    },
    {
      "cell_type": "code",
      "source": [
        "import gspread\n",
        "from oauth2client.service_account import ServiceAccountCredentials\n",
        "print(\"Trying to connect...\")\n",
        "\n",
        "try:\n",
        "    # This tells the program what it's allowed to access\n",
        "    scope = ['https://spreadsheets.google.com/feeds', 'https://www.googleapis.com/auth/drive']\n",
        "\n",
        "    # This uses your uploaded file to log in\n",
        "    creds = ServiceAccountCredentials.from_json_keyfile_name('credentials.json', scope)\n",
        "    client = gspread.authorize(creds)\n",
        "\n",
        "    # This tries to open your specific Google Sheet by its exact name\n",
        "    sheet = client.open(\"Invoice Database\")\n",
        "\n",
        "    # If all the above steps worked, you will see this success message:\n",
        "    print(\"\\nSUCCESS! 🎉\")\n",
        "    print(\"Your code is successfully connected to your Google Sheet.\")\n",
        "    print(\"You are ready for the next part of the project.\")\n",
        "\n",
        "except Exception as e:\n",
        "    # If any step failed, you will see this error message:\n",
        "    print(\"\\nERROR! Could not connect.\")\n",
        "    print(\"Here is the specific error message:\", e)\n",
        "    print(\"\\n--- COMMON FIXES ---\")\n",
        "    print(\"1. Did you upload the 'credentials.json' file to this Colab session?\")\n",
        "    print(\"2. Did you share the Google Sheet with the correct 'client_email' address?\")\n",
        "    print(\"3. In the Google Sheet sharing settings, is the role for that email set to 'Editor'?\")"
      ],
      "metadata": {
        "colab": {
          "base_uri": "https://localhost:8080/"
        },
        "collapsed": true,
        "id": "xghnlL8lYqbK",
        "outputId": "1f8dea2d-cc33-4f88-ba5b-a9f703cb7692"
      },
      "execution_count": null,
      "outputs": [
        {
          "output_type": "stream",
          "name": "stdout",
          "text": [
            "Trying to connect...\n",
            "\n",
            "SUCCESS! 🎉\n",
            "Your code is successfully connected to your Google Sheet.\n",
            "You are ready for the next part of the project.\n"
          ]
        }
      ]
    },
    {
      "cell_type": "code",
      "source": [
        "# Install tools for reading images and data validation\n",
        "!sudo apt install tesseract-ocr\n",
        "!pip install pytesseract\n",
        "!pip install Pillow\n",
        "!pip install pydantic"
      ],
      "metadata": {
        "colab": {
          "base_uri": "https://localhost:8080/"
        },
        "collapsed": true,
        "id": "nGaDDawJeRjz",
        "outputId": "a70e77d0-080c-44c2-a807-e1bf7ae13665"
      },
      "execution_count": null,
      "outputs": [
        {
          "output_type": "stream",
          "name": "stdout",
          "text": [
            "Reading package lists... Done\n",
            "Building dependency tree... Done\n",
            "Reading state information... Done\n",
            "tesseract-ocr is already the newest version (4.1.1-2.1build1).\n",
            "0 upgraded, 0 newly installed, 0 to remove and 35 not upgraded.\n",
            "Requirement already satisfied: pytesseract in /usr/local/lib/python3.11/dist-packages (0.3.13)\n",
            "Requirement already satisfied: packaging>=21.3 in /usr/local/lib/python3.11/dist-packages (from pytesseract) (24.2)\n",
            "Requirement already satisfied: Pillow>=8.0.0 in /usr/local/lib/python3.11/dist-packages (from pytesseract) (11.2.1)\n",
            "Requirement already satisfied: Pillow in /usr/local/lib/python3.11/dist-packages (11.2.1)\n",
            "Requirement already satisfied: pydantic in /usr/local/lib/python3.11/dist-packages (2.11.7)\n",
            "Requirement already satisfied: annotated-types>=0.6.0 in /usr/local/lib/python3.11/dist-packages (from pydantic) (0.7.0)\n",
            "Requirement already satisfied: pydantic-core==2.33.2 in /usr/local/lib/python3.11/dist-packages (from pydantic) (2.33.2)\n",
            "Requirement already satisfied: typing-extensions>=4.12.2 in /usr/local/lib/python3.11/dist-packages (from pydantic) (4.14.0)\n",
            "Requirement already satisfied: typing-inspection>=0.4.0 in /usr/local/lib/python3.11/dist-packages (from pydantic) (0.4.1)\n"
          ]
        }
      ]
    },
    {
      "cell_type": "code",
      "source": [
        "# === IMPORT LIBRARIES ===\n",
        "import pytesseract\n",
        "from PIL import Image\n",
        "import re\n",
        "from datetime import datetime\n",
        "from pydantic import BaseModel, Field, validator\n",
        "import gspread\n",
        "from oauth2client.service_account import ServiceAccountCredentials\n",
        "\n",
        "# === DEFINE DATA STRUCTURE ===\n",
        "class InvoiceData(BaseModel):\n",
        "    supplier_name: str\n",
        "    invoice_date: datetime\n",
        "    total_amount: float = Field(gt=0)\n",
        "\n",
        "    @validator('invoice_date', pre=True)\n",
        "    def parse_date(cls, value):\n",
        "        for fmt in ('%d-%m-%Y', '%B %d, %Y', '%d/%m/%Y'):\n",
        "            try: return datetime.strptime(value, fmt)\n",
        "            except ValueError: pass\n",
        "        raise ValueError(f\"Unable to parse date: {value}\")\n",
        "\n",
        "# === DEFINE FUNCTIONS ===\n",
        "def extract_text_from_image(image_path):\n",
        "    return pytesseract.image_to_string(Image.open(image_path))\n",
        "\n",
        "# THIS FUNCTION IS NOW UPDATED FOR YOUR 'SIMPLEX SOLUTIONS' INVOICE\n",
        "def parse_invoice_text(text: str):\n",
        "    try:\n",
        "        # For your invoice, the supplier is \"SIMPLEX SOLUTIONS\"\n",
        "        supplier_name = \"SIMPLEX SOLUTIONS\"\n",
        "\n",
        "        # The date is after the label \"Invoice Date:\"\n",
        "        date_match = re.search(r'Invoice Date:\\s*(\\d{2}-\\d{2}-\\d{4})', text)\n",
        "        date_str = date_match.group(1) if date_match else None\n",
        "\n",
        "        # The total amount is after the label \"TOTAL PRICE:\"\n",
        "        amount_match = re.search(r'TOTAL PRICE:\\s*([\\d,]+\\.\\d{2})', text, re.IGNORECASE)\n",
        "        amount_str = amount_match.group(1).replace(',', '') if amount_match else None\n",
        "\n",
        "        # Create the structured data\n",
        "        return InvoiceData(supplier_name=supplier_name, invoice_date=date_str, total_amount=float(amount_str))\n",
        "    except Exception as e:\n",
        "        print(f\"ERROR: Could not parse the invoice text. Details: {e}\")\n",
        "        return None\n",
        "\n",
        "def write_to_google_sheet(data: InvoiceData):\n",
        "    try:\n",
        "        scope = ['https://spreadsheets.google.com/feeds', 'https://www.googleapis.com/auth/drive']\n",
        "        creds = ServiceAccountCredentials.from_json_keyfile_name('credentials.json', scope)\n",
        "        client = gspread.authorize(creds)\n",
        "        worksheet = client.open(\"Invoice Database\").worksheet(\"Sheet1\")\n",
        "\n",
        "        row = [\n",
        "            data.supplier_name,\n",
        "            data.invoice_date.strftime('%Y-%m-%d'),\n",
        "            data.total_amount,\n",
        "            \"Pending Review\",\n",
        "            datetime.now().strftime('%Y-%m-%d %H:%M:%S')\n",
        "        ]\n",
        "        worksheet.append_row(row)\n",
        "        print(\"--> 🎉 Success! Data written to your Google Sheet.\")\n",
        "    except Exception as e:\n",
        "        print(f\"ERROR: Could not write to Google Sheet. Details: {e}\")\n",
        "\n",
        "# === RUN THE PROCESS ===\n",
        "print(\"--- Starting Invoice Processor ---\")\n",
        "# Make sure this filename matches the file you uploaded\n",
        "invoice_file = 'my_invoice.png'\n",
        "raw_text = extract_text_from_image(invoice_file)\n",
        "\n",
        "if raw_text:\n",
        "    invoice_data = parse_invoice_text(raw_text)\n",
        "    if invoice_data:\n",
        "        write_to_google_sheet(invoice_data)\n",
        "print(\"--- Processor Finished ---\")"
      ],
      "metadata": {
        "colab": {
          "base_uri": "https://localhost:8080/"
        },
        "collapsed": true,
        "id": "wsXTo_0FlUMS",
        "outputId": "93592a25-2ff5-49d6-a9a5-a5c658d0f999"
      },
      "execution_count": null,
      "outputs": [
        {
          "output_type": "stream",
          "name": "stderr",
          "text": [
            "/tmp/ipython-input-16-3456599350.py:16: PydanticDeprecatedSince20: Pydantic V1 style `@validator` validators are deprecated. You should migrate to Pydantic V2 style `@field_validator` validators, see the migration guide for more details. Deprecated in Pydantic V2.0 to be removed in V3.0. See Pydantic V2 Migration Guide at https://errors.pydantic.dev/2.11/migration/\n",
            "  @validator('invoice_date', pre=True)\n"
          ]
        },
        {
          "output_type": "stream",
          "name": "stdout",
          "text": [
            "--- Starting Invoice Processor ---\n",
            "--> 🎉 Success! Data written to your Google Sheet.\n",
            "--- Processor Finished ---\n"
          ]
        }
      ]
    },
    {
      "cell_type": "code",
      "source": [
        "!pip install pdf2image\n",
        "!sudo apt-get install -y poppler-utils"
      ],
      "metadata": {
        "colab": {
          "base_uri": "https://localhost:8080/"
        },
        "collapsed": true,
        "id": "RWdeSoaQs6_G",
        "outputId": "dbade5bc-9a76-4afd-ae07-6766f2a60dc1"
      },
      "execution_count": null,
      "outputs": [
        {
          "output_type": "stream",
          "name": "stdout",
          "text": [
            "Requirement already satisfied: pdf2image in /usr/local/lib/python3.11/dist-packages (1.17.0)\n",
            "Requirement already satisfied: pillow in /usr/local/lib/python3.11/dist-packages (from pdf2image) (11.2.1)\n",
            "Reading package lists... Done\n",
            "Building dependency tree... Done\n",
            "Reading state information... Done\n",
            "poppler-utils is already the newest version (22.02.0-2ubuntu0.8).\n",
            "0 upgraded, 0 newly installed, 0 to remove and 35 not upgraded.\n"
          ]
        }
      ]
    },
    {
      "cell_type": "code",
      "source": [
        "# === 1. IMPORT LIBRARIES ===\n",
        "import pytesseract\n",
        "import re\n",
        "import gspread\n",
        "from PIL import Image\n",
        "from datetime import datetime\n",
        "from pdf2image import convert_from_path\n",
        "from oauth2client.service_account import ServiceAccountCredentials\n",
        "from pydantic import BaseModel, Field, field_validator # <-- Updated import for Pydantic v2\n",
        "\n",
        "# === 2. CONFIGURATION ===\n",
        "APPROVAL_THRESHOLD = 10000.00 # Invoices over this amount require manual review\n",
        "\n",
        "# === 3. DEFINE DATA STRUCTURE (PYDANTIC V2 SYNTAX) ===\n",
        "class InvoiceData(BaseModel):\n",
        "    \"\"\"A Pydantic model to structure and validate extracted invoice data.\"\"\"\n",
        "    supplier_name: str\n",
        "    invoice_date: datetime\n",
        "    total_amount: float = Field(gt=0) # Amount must be greater than 0\n",
        "\n",
        "    @field_validator('invoice_date', mode='before') # <-- CORRECT Pydantic v2 syntax\n",
        "    @classmethod\n",
        "    def parse_date(cls, value):\n",
        "        \"\"\"Tries to parse various common date formats.\"\"\"\n",
        "        for fmt in ('%Y-%m-%d', '%d-%m-%Y', '%d/%m/%Y', '%b %d, %Y'):\n",
        "            try:\n",
        "                return datetime.strptime(str(value), fmt)\n",
        "            except ValueError:\n",
        "                pass\n",
        "        raise ValueError(f\"Unable to parse date: {value} with available formats\")\n",
        "\n",
        "# === 4. DEFINE CORE FUNCTIONS ===\n",
        "\n",
        "def parse_invoice_text(text: str) -> InvoiceData | None:\n",
        "    \"\"\"\n",
        "    Parses a single block of OCR text to extract structured invoice data.\n",
        "    \"\"\"\n",
        "    try:\n",
        "        # 1. Find Supplier Name\n",
        "        supplier_match = re.search(r'Sold By:\\s*(.*)', text, re.IGNORECASE)\n",
        "        supplier_name = supplier_match.group(1).strip().replace(',', '') if supplier_match else None\n",
        "\n",
        "        # 2. Find Invoice Date\n",
        "        date_match = re.search(r'Invoice Date:\\s*([\\d-]+)', text, re.IGNORECASE)\n",
        "        date_str = date_match.group(1).strip() if date_match else None\n",
        "\n",
        "        # 3. Find Total Amount (IMPROVED REGEX)\n",
        "        # re.DOTALL makes '.' match newlines, fixing the \"Grand Total\" amount being on the next line.\n",
        "        amount_match = re.search(r'Grand Total.*?([\\d,]+\\.?\\d*)', text, re.IGNORECASE | re.DOTALL)\n",
        "        amount_str = amount_match.group(1).replace(',', '') if amount_match else None\n",
        "\n",
        "        # --- VALIDATION AND ERROR HANDLING ---\n",
        "        if not all([supplier_name, date_str, amount_str]):\n",
        "            print(\"--- PARSING ERROR ---\")\n",
        "            if not supplier_name: print(\"Could not find Supplier Name (looked for 'Sold By:').\")\n",
        "            if not date_str: print(\"Could not find Invoice Date (looked for 'Invoice Date:').\")\n",
        "            if not amount_str: print(\"Could not find Total Amount (looked for 'Grand Total').\")\n",
        "            print(\"-----------------------\")\n",
        "            return None\n",
        "\n",
        "        invoice_details = InvoiceData(\n",
        "            supplier_name=supplier_name,\n",
        "            invoice_date=date_str,\n",
        "            total_amount=float(amount_str)\n",
        "        )\n",
        "        return invoice_details\n",
        "\n",
        "    except Exception as e:\n",
        "        print(f\"An unexpected error occurred during parsing: {e}\")\n",
        "        return None\n",
        "\n",
        "def process_invoice_approval(data: InvoiceData) -> str:\n",
        "    \"\"\"Determines the approval status based on the total amount.\"\"\"\n",
        "    if data.total_amount < APPROVAL_THRESHOLD:\n",
        "        return \"Auto-Approved\"\n",
        "    else:\n",
        "        return \"Pending Review\"\n",
        "\n",
        "def write_to_google_sheet(data: InvoiceData, approval_status: str):\n",
        "    \"\"\"Writes the final, validated data to Google Sheets.\"\"\"\n",
        "    try:\n",
        "        scope = ['https://spreadsheets.google.com/feeds', 'https://www.googleapis.com/auth/drive']\n",
        "        creds = ServiceAccountCredentials.from_json_keyfile_name('credentials.json', scope)\n",
        "        client = gspread.authorize(creds)\n",
        "        worksheet = client.open(\"Invoice Database\").worksheet(\"Sheet1\")\n",
        "\n",
        "        row = [\n",
        "            data.supplier_name,\n",
        "            data.invoice_date.strftime('%Y-%m-%d'),\n",
        "            data.total_amount,\n",
        "            approval_status, # Use the determined approval status\n",
        "            datetime.now().strftime('%Y-%m-%d %H:%M:%S')\n",
        "        ]\n",
        "        worksheet.append_row(row)\n",
        "        print(f\"--> 🎉 Success! Data for '{data.supplier_name}' written to Google Sheet.\")\n",
        "    except Exception as e:\n",
        "        print(f\"ERROR: Could not write to Google Sheet. Details: {e}\")\n",
        "\n",
        "# === 5. RUN THE MAIN PROCESS ===\n",
        "print(\"--- Starting Invoice Processor ---\")\n",
        "pdf_file = 'venkat_invoice.pdf'\n",
        "\n",
        "try:\n",
        "    print(f\"1. Converting PDF '{pdf_file}' to images...\")\n",
        "    images = convert_from_path(pdf_file)\n",
        "\n",
        "    # Combine text from all pages into a single string\n",
        "    print(\"2. Reading text from all pages using OCR...\")\n",
        "    all_pages_text = [pytesseract.image_to_string(image) for image in images]\n",
        "    full_text = \"\\n\".join(all_pages_text) # <-- This joins all pages into one text block\n",
        "\n",
        "    # Process the combined text\n",
        "    if full_text:\n",
        "        print(\"3. Parsing extracted text...\")\n",
        "        invoice_data = parse_invoice_text(full_text) # <-- CORRECT function name and variable\n",
        "\n",
        "        if invoice_data:\n",
        "            print(\"4. Processing approval status...\")\n",
        "            status = process_invoice_approval(invoice_data)\n",
        "            print(f\"   - Status for '{invoice_data.supplier_name}': {status}\")\n",
        "\n",
        "            print(\"5. Writing to Google Sheets...\")\n",
        "            write_to_google_sheet(invoice_data, status)\n",
        "        else:\n",
        "            print(\"   - Parsing failed. Skipping write to Google Sheets.\")\n",
        "\n",
        "except FileNotFoundError:\n",
        "    print(f\"\\nERROR: The file '{pdf_file}' was not found. Please upload it to your Colab session.\")\n",
        "except Exception as e:\n",
        "    print(f\"An unexpected error occurred during PDF processing: {e}\")\n",
        "\n",
        "print(\"\\n--- Processor Finished ---\")"
      ],
      "metadata": {
        "colab": {
          "base_uri": "https://localhost:8080/"
        },
        "collapsed": true,
        "id": "o9HU688s9nFr",
        "outputId": "cb70edf0-dffb-4aa6-ac60-ecea5d6da2e2"
      },
      "execution_count": null,
      "outputs": [
        {
          "output_type": "stream",
          "name": "stdout",
          "text": [
            "--- Starting Invoice Processor ---\n",
            "1. Converting PDF 'venkat_invoice.pdf' to images...\n",
            "2. Reading text from all pages using OCR...\n",
            "3. Parsing extracted text...\n",
            "4. Processing approval status...\n",
            "   - Status for 'Tech-Connect Retail Private Limited ': Auto-Approved\n",
            "5. Writing to Google Sheets...\n",
            "--> 🎉 Success! Data for 'Tech-Connect Retail Private Limited ' written to Google Sheet.\n",
            "\n",
            "--- Processor Finished ---\n"
          ]
        }
      ]
    },
    {
      "cell_type": "code",
      "source": [
        "# Create directories for our automated workflow\n",
        "!mkdir -p invoices_to_process\n",
        "!mkdir -p processed_invoices\n",
        "print(\"Folders 'invoices_to_process' and 'processed_invoices' are ready.\")"
      ],
      "metadata": {
        "colab": {
          "base_uri": "https://localhost:8080/"
        },
        "collapsed": true,
        "id": "U8ez4af_DofG",
        "outputId": "1b79fdf4-aa8d-483a-9039-4b6e1a74e155"
      },
      "execution_count": null,
      "outputs": [
        {
          "output_type": "stream",
          "name": "stdout",
          "text": [
            "Folders 'invoices_to_process' and 'processed_invoices' are ready.\n"
          ]
        }
      ]
    },
    {
      "cell_type": "code",
      "source": [
        "# === 5. RUN THE MAIN PROCESS (AUTOMATED VERSION) ===\n",
        "import os\n",
        "import shutil # A library for file operations, like moving files\n",
        "\n",
        "# Define the folders we will use\n",
        "INPUT_FOLDER = 'invoices_to_process'\n",
        "PROCESSED_FOLDER = 'processed_invoices'\n",
        "\n",
        "print(f\"--- Starting Automated Invoice Processor ---\")\n",
        "print(f\"Looking for new invoices in folder: '{INPUT_FOLDER}'...\")\n",
        "\n",
        "# Get a list of all files in the input folder\n",
        "try:\n",
        "    invoice_files = os.listdir(INPUT_FOLDER)\n",
        "except FileNotFoundError:\n",
        "    print(f\"ERROR: Input folder '{INPUT_FOLDER}' not found. Please create it first.\")\n",
        "    invoice_files = []\n",
        "\n",
        "if not invoice_files:\n",
        "    print(\"No new invoices to process.\")\n",
        "else:\n",
        "    # Loop through each file found in the folder\n",
        "    for filename in invoice_files:\n",
        "        # Process only if it's a PDF file\n",
        "        if filename.lower().endswith('.pdf'):\n",
        "            pdf_path = os.path.join(INPUT_FOLDER, filename)\n",
        "            print(f\"\\nProcessing file: {filename}\")\n",
        "\n",
        "            try:\n",
        "                # 1. Convert PDF to images and extract text\n",
        "                images = convert_from_path(pdf_path)\n",
        "                full_text = \"\\n\".join([pytesseract.image_to_string(img) for img in images])\n",
        "\n",
        "                # 2. Parse the extracted text\n",
        "                if full_text:\n",
        "                    invoice_data = parse_invoice_text(full_text)\n",
        "\n",
        "                    # 3. If parsing is successful, write to sheet and move the file\n",
        "                    if invoice_data:\n",
        "                        status = process_invoice_approval(invoice_data)\n",
        "                        write_to_google_sheet(invoice_data, status)\n",
        "\n",
        "                        # 4. Move the processed file to the 'processed' folder\n",
        "                        shutil.move(pdf_path, os.path.join(PROCESSED_FOLDER, filename))\n",
        "                        print(f\"   -> Successfully processed and moved '{filename}'.\")\n",
        "                    else:\n",
        "                        print(f\"   -> Parsing failed for '{filename}'. File will not be moved.\")\n",
        "                else:\n",
        "                    print(f\"   -> OCR could not extract any text from '{filename}'.\")\n",
        "\n",
        "            except Exception as e:\n",
        "                print(f\"   -> An unexpected error occurred while processing '{filename}': {e}\")\n",
        "                # For robust error handling, you could move failed files to an 'error' folder here\n",
        "\n",
        "print(\"\\n--- Processor Finished ---\")"
      ],
      "metadata": {
        "colab": {
          "base_uri": "https://localhost:8080/"
        },
        "id": "5bYmkMFoFzJk",
        "outputId": "2a55cd98-e621-4544-ccd8-afc411197c17"
      },
      "execution_count": null,
      "outputs": [
        {
          "output_type": "stream",
          "name": "stdout",
          "text": [
            "--- Starting Automated Invoice Processor ---\n",
            "Looking for new invoices in folder: 'invoices_to_process'...\n",
            "\n",
            "Processing file: 3_invoice.pdf\n",
            "--- PARSING ERROR ---\n",
            "Could not find Supplier Name (looked for 'Sold By:').\n",
            "Could not find Total Amount (looked for 'Grand Total').\n",
            "-----------------------\n",
            "   -> Parsing failed for '3_invoice.pdf'. File will not be moved.\n",
            "\n",
            "--- Processor Finished ---\n"
          ]
        }
      ]
    }
  ]
}